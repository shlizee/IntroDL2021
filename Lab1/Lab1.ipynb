{
 "cells": [
  {
   "cell_type": "markdown",
   "metadata": {
    "id": "VOBjwKeEm7nQ"
   },
   "source": [
    "# Lab 1: Introduction\n"
   ]
  },
  {
   "cell_type": "markdown",
   "metadata": {
    "id": "2CMkjFYsQuxF"
   },
   "source": [
    "# Part 1: Using Numpy"
   ]
  },
  {
   "cell_type": "code",
   "execution_count": null,
   "metadata": {
    "id": "yXRToE9Dmmwo"
   },
   "outputs": [],
   "source": [
    "import numpy as np # import numpy"
   ]
  },
  {
   "cell_type": "markdown",
   "metadata": {
    "id": "UYyIqkVTXKLg"
   },
   "source": [
    "## Creating n-dimensional numpy arrays from Python lists"
   ]
  },
  {
   "cell_type": "code",
   "execution_count": null,
   "metadata": {
    "colab": {
     "base_uri": "https://localhost:8080/"
    },
    "id": "YW5M33PomPQ0",
    "outputId": "4cfa4945-2b8c-414d-bd19-efe8cba906fb"
   },
   "outputs": [],
   "source": [
    "# Defining a numpy array \n",
    "\n",
    "# 1D array\n",
    "arr = np.array([1,2,3,4,5]) \n",
    "\n",
    "# 2D array\n",
    "arr_2d = np.array([[1,2,3,4,5],\n",
    "                  [6,7,8,9,10],\n",
    "                  [11,12,13,14,15]])\n",
    "\n",
    "# 3D array\n",
    "arr_3d = np.array([[[1,2,3,4,5],\n",
    "                  [6,7,8,9,10],\n",
    "                  [11,12,13,14,15]],\n",
    "                   [[16,17,18,19,20],\n",
    "                  [21,22,23,24,25],\n",
    "                  [26,27,28,29,30]]])\n",
    "\n",
    "print(arr, arr.shape) # Prints the array and its dimensions\n",
    "print(arr_2d, arr_2d.shape)\n",
    "print(arr_3d, arr_3d.shape)\n",
    "\n",
    "print(type(arr))      # Numpy array has 'numpy.ndarray' type"
   ]
  },
  {
   "cell_type": "markdown",
   "metadata": {
    "id": "FhkfogOIwB7S"
   },
   "source": [
    "## Creating numpy arrays from numpy commands"
   ]
  },
  {
   "cell_type": "code",
   "execution_count": null,
   "metadata": {
    "colab": {
     "base_uri": "https://localhost:8080/"
    },
    "id": "ceKz9vlEnBqu",
    "outputId": "9972dbde-d683-4f8e-fc02-0bd53e725023"
   },
   "outputs": [],
   "source": [
    "# Define number of each dimension \n",
    "\n",
    "n1 = 3\n",
    "n2 = 4\n",
    "n3 = 5\n",
    "\n",
    "# Zeros array\n",
    "zeros_1d = np.zeros(n1)\n",
    "zeros_2d = np.zeros((n1,n2)) \n",
    "zeros_3d = np.zeros((n1,n2,n3))\n",
    "\n",
    "# Ones array\n",
    "ones_1d = np.ones(n1)\n",
    "ones_2d = np.ones((n1,n2))\n",
    "ones_3d = np.ones((n1,n2,n3))\n",
    "\n",
    "# Creating array using np.arange\n",
    "arr_arange = np.arange(0, 10, 1)     # (start, stop, stepsize)\n",
    "\n",
    "# Creating an array using np.linspace\n",
    "arr_linspace = np.linspace(0, 9, 10) # (start, stop, # of bins)\n",
    "\n",
    "print(zeros_2d)\n",
    "print(ones_2d)\n",
    "print(arr_arange)\n",
    "print(arr_linspace)"
   ]
  },
  {
   "cell_type": "code",
   "execution_count": null,
   "metadata": {
    "colab": {
     "base_uri": "https://localhost:8080/"
    },
    "id": "fjIAvYMrnBb3",
    "outputId": "2bca53b2-b8d8-46bb-83fc-5f93c3493d8c"
   },
   "outputs": [],
   "source": [
    "# Random array\n",
    "\n",
    "np.random.seed(10)                 # Fixes the seed number so that random samplings always give same results\n",
    "\n",
    "rand_arr = np.random.randn(n1, n2) # Random array sampled from standard normal distribution \n",
    "print(rand_arr)"
   ]
  },
  {
   "cell_type": "markdown",
   "metadata": {
    "id": "v41QUq4BXaxT"
   },
   "source": [
    "## Matrix operations in Numpy"
   ]
  },
  {
   "cell_type": "code",
   "execution_count": null,
   "metadata": {
    "colab": {
     "base_uri": "https://localhost:8080/"
    },
    "id": "2uXeiCfXoxPY",
    "outputId": "7eaa1559-043e-49fc-f002-b0e6288585e7"
   },
   "outputs": [],
   "source": [
    "# Elementwise Addition\n",
    "twos_2d = np.add(ones_2d, ones_2d)\n",
    "print(twos_2d)"
   ]
  },
  {
   "cell_type": "code",
   "execution_count": null,
   "metadata": {
    "colab": {
     "base_uri": "https://localhost:8080/"
    },
    "id": "DfKXv1wM0bvP",
    "outputId": "1a80cc8e-3b75-4103-c8b3-7dfad804f1d7"
   },
   "outputs": [],
   "source": [
    "# Elementwise Subtraction\n",
    "fives_2d = ones_2d * 5\n",
    "print(np.subtract(fives_2d, twos_2d))\n",
    "print(fives_2d - 2) #alternative method"
   ]
  },
  {
   "cell_type": "code",
   "execution_count": null,
   "metadata": {
    "colab": {
     "base_uri": "https://localhost:8080/"
    },
    "id": "T2d1aX6N0b4G",
    "outputId": "af25d81a-ff17-4984-a8aa-2cb958de294d"
   },
   "outputs": [],
   "source": [
    "# Elementwise Multiplication\n",
    "print(np.multiply(fives_2d, twos_2d))"
   ]
  },
  {
   "cell_type": "code",
   "execution_count": null,
   "metadata": {
    "colab": {
     "base_uri": "https://localhost:8080/"
    },
    "id": "iFDSf2i80b-i",
    "outputId": "df037432-4e68-46ab-fc86-8fe30352c504"
   },
   "outputs": [],
   "source": [
    "# Elementwise Division\n",
    "print(np.divide(fives_2d, twos_2d))"
   ]
  },
  {
   "cell_type": "code",
   "execution_count": null,
   "metadata": {
    "colab": {
     "base_uri": "https://localhost:8080/"
    },
    "id": "xIzmQ9xz0cF1",
    "outputId": "9ee0982c-6b3b-4e62-c524-adba3724597b"
   },
   "outputs": [],
   "source": [
    "# Dot product\n",
    "A = ones_2d.copy()\n",
    "b = np.arange(0, 4, 1)\n",
    "print(np.dot(A, b))"
   ]
  },
  {
   "cell_type": "code",
   "execution_count": null,
   "metadata": {
    "colab": {
     "base_uri": "https://localhost:8080/"
    },
    "id": "LdQw7pG40cKk",
    "outputId": "a98bf930-8ca6-4209-e3a6-9e397a0a02df"
   },
   "outputs": [],
   "source": [
    "# Elementwise Power \n",
    "print(np.power(twos_2d, 3)) #(array to be powered, power constant)"
   ]
  },
  {
   "cell_type": "code",
   "execution_count": null,
   "metadata": {
    "colab": {
     "base_uri": "https://localhost:8080/"
    },
    "id": "um1ouxr10cPP",
    "outputId": "45a656a2-ae7e-4c01-b7b7-d962e93c8e53"
   },
   "outputs": [],
   "source": [
    "# Transpose\n",
    "print(ones_2d)\n",
    "print(ones_2d.T)             # method 1\n",
    "print(np.transpose(ones_2d)) # method 2"
   ]
  },
  {
   "cell_type": "markdown",
   "metadata": {
    "id": "Wjz11P4YXN-K"
   },
   "source": [
    "## Useful Numpy functions"
   ]
  },
  {
   "cell_type": "code",
   "execution_count": null,
   "metadata": {
    "colab": {
     "base_uri": "https://localhost:8080/"
    },
    "id": "XUI0IGSopXwL",
    "outputId": "d6541da5-b0ab-4ac5-d631-e533eefe63db"
   },
   "outputs": [],
   "source": [
    "# np.concatenate\n",
    "\n",
    "print(np.concatenate([ones_1d, zeros_1d])) # Concatenation between 1D arrays joins them into a single array"
   ]
  },
  {
   "cell_type": "code",
   "execution_count": null,
   "metadata": {
    "colab": {
     "base_uri": "https://localhost:8080/"
    },
    "id": "r9IsCt-J1QZj",
    "outputId": "dc9f0984-e804-44db-ca86-ab3d6d1162d0"
   },
   "outputs": [],
   "source": [
    "# np.stack (vstack and hstack)\n",
    "\n",
    "print(np.stack([ones_2d, twos_2d]))  # np.stack([2D, 2D]) outputs 3D array\n",
    "print(np.hstack([ones_2d, twos_2d])) # np.hstack([2D, 2D]) outputs horizontally stacked 2D arrays \n",
    "print(np.vstack([ones_2d, twos_2d])) # np.vstack([2D, 2D]) outputs vertically stacked 2D arrays"
   ]
  },
  {
   "cell_type": "code",
   "execution_count": null,
   "metadata": {
    "colab": {
     "base_uri": "https://localhost:8080/"
    },
    "id": "g5EbGpMQ1QdU",
    "outputId": "2073af87-ad37-4d6c-edab-39b595bd10fc"
   },
   "outputs": [],
   "source": [
    "# np.min, np.max, np.mean, np.sum\n",
    "\n",
    "arr = np.arange(10) # 0 to 9\n",
    "\n",
    "print(np.min(arr))  # minimum value of the array\n",
    "print(np.max(arr))  # maximum value of the array\n",
    "print(np.mean(arr)) # mean value of the array\n",
    "print(np.sum(arr))  # summation of all the elements"
   ]
  },
  {
   "cell_type": "code",
   "execution_count": null,
   "metadata": {
    "colab": {
     "base_uri": "https://localhost:8080/"
    },
    "id": "N5zuvOrgCrtt",
    "outputId": "e8e2040e-f55f-40b5-f40d-829d09c996df"
   },
   "outputs": [],
   "source": [
    "# np.argmin, np.argmax, np.argsort\n",
    "\n",
    "print(np.argmin(arr))  # Finds the index corresponding to minimum value\n",
    "print(np.argmax(arr))  # Finds the index corresponding to maximum value\n",
    "\n",
    "np.random.shuffle(arr) # Shuffles the array\n",
    "print(arr)             # Shuffled array\n",
    "\n",
    "print(np.argsort(arr)) # Sorts the array indices from the smallest to the largest value"
   ]
  },
  {
   "cell_type": "code",
   "execution_count": null,
   "metadata": {
    "colab": {
     "base_uri": "https://localhost:8080/"
    },
    "id": "uW9JWnx_1Qg6",
    "outputId": "23c07eaf-67fd-4a0a-b8e2-a1e5cdac2496"
   },
   "outputs": [],
   "source": [
    "# np.where\n",
    "\n",
    "print(np.where(arr == 7)) # Finds the specific indicies in the array that satisfies the condition\n",
    "print(np.where(arr >= 7)) # Another example using inequality"
   ]
  },
  {
   "cell_type": "markdown",
   "metadata": {
    "id": "fEa52rt8RFuF"
   },
   "source": [
    "# Part 2: Plotting Data"
   ]
  },
  {
   "cell_type": "code",
   "execution_count": null,
   "metadata": {
    "id": "0fCxTUn0UrVy"
   },
   "outputs": [],
   "source": [
    "#%matplotlib inline   # If using local notebook runtime, allows you to display the plot inside the jupyter notebook\n",
    "#%matplotlib notebook # Alternatively, you can use this line instead for interactive plots\n",
    "\n",
    "import matplotlib.pyplot as plt"
   ]
  },
  {
   "cell_type": "markdown",
   "metadata": {
    "id": "zROYzASTqm1c"
   },
   "source": [
    "## Basic plotting"
   ]
  },
  {
   "cell_type": "code",
   "execution_count": null,
   "metadata": {
    "colab": {
     "base_uri": "https://localhost:8080/",
     "height": 282
    },
    "id": "Sq1iXwigqH7l",
    "outputId": "3c98108b-e834-42a2-ed4b-c68f4020458a"
   },
   "outputs": [],
   "source": [
    "x = np.arange(0, 10, 1/32) # x axis data\n",
    "y = np.sin(x)              # y axis data\n",
    "plt.plot(x, y)             # plot the data"
   ]
  },
  {
   "cell_type": "markdown",
   "metadata": {
    "id": "g8E9UK4hqpcF"
   },
   "source": [
    "## Labeling your plots"
   ]
  },
  {
   "cell_type": "code",
   "execution_count": null,
   "metadata": {
    "colab": {
     "base_uri": "https://localhost:8080/",
     "height": 295
    },
    "id": "9vRpvao1qIpk",
    "outputId": "1fa20410-02bf-43b0-adad-b53f21954884"
   },
   "outputs": [],
   "source": [
    "plt.plot(x, y) \n",
    "plt.title('y=sin(x)')  # set the title\n",
    "plt.xlabel('x')        # set the x axis label\n",
    "plt.ylabel('y')        # set the y axis label\n",
    "plt.xlim(-1, 11)       # set the x axis range\n",
    "plt.ylim(-2, 2)        # set the y axis range\n",
    "plt.grid()             # enable the grid"
   ]
  },
  {
   "cell_type": "markdown",
   "metadata": {
    "id": "rnzo9q8Eqtn8"
   },
   "source": [
    "## Multiple plots"
   ]
  },
  {
   "cell_type": "code",
   "execution_count": null,
   "metadata": {
    "colab": {
     "base_uri": "https://localhost:8080/",
     "height": 308
    },
    "id": "nalHV8J1qIhs",
    "outputId": "fae9e953-eead-4b3d-f330-fa5cee67b204"
   },
   "outputs": [],
   "source": [
    "# Multiple Plots\n",
    "# On same figure \n",
    "x = np.arange(0, 10, 1/32) # x axis data\n",
    "y1 = np.sin(x)             # y axis data 1\n",
    "y2 = np.cos(x)             # y axis data 2\n",
    "y3 = np.tan(x)             # y axis data 3\n",
    "plt.figure(1)              # create figure 1\n",
    "plt.plot(x, y1, label='sin(x)')\n",
    "plt.plot(x, y2, label='cos(x)')\n",
    "plt.plot(x, y3, label='tan(x)')\n",
    "plt.xlabel('x')\n",
    "plt.ylabel('y')\n",
    "plt.xlim(-1, 11)\n",
    "plt.ylim(-2, 2)\n",
    "plt.suptitle('Trigonometric Functions')\n",
    "plt.legend()\n",
    "plt.show()\n"
   ]
  },
  {
   "cell_type": "markdown",
   "metadata": {
    "id": "p-PHYpYDqvko"
   },
   "source": [
    "## Creating subplots"
   ]
  },
  {
   "cell_type": "code",
   "execution_count": null,
   "metadata": {
    "colab": {
     "base_uri": "https://localhost:8080/",
     "height": 585
    },
    "id": "CDDlHgGhqMei",
    "outputId": "ebeb7989-6576-4e87-cb43-7e263d2c43ba"
   },
   "outputs": [],
   "source": [
    "# Multiple Subplots\n",
    "x = np.arange(0, 10, 1/32) # x axis data\n",
    "y1 = np.sin(x)             # y axis data for subplot 1\n",
    "y2 = np.cos(x)             # y axis data for subplot 2\n",
    "y3 = np.tan(x)             # y axis data for subplot 3\n",
    "\n",
    "fig = plt.figure(2,figsize=(8,8)) # create figure 2\n",
    "\n",
    "plt.subplot(311)           # (number of rows, number of columns, current plot)\n",
    "plt.plot(x, y1)\n",
    "plt.title('sin(x)')\n",
    "plt.xlabel('x')\n",
    "plt.ylabel('y')\n",
    "\n",
    "plt.subplot(312)\n",
    "plt.plot(x, y2)\n",
    "plt.title('cos(x)')\n",
    "plt.xlabel('x')\n",
    "plt.ylabel('y')\n",
    "\n",
    "plt.subplot(313)\n",
    "plt.plot(x, y3)\n",
    "plt.title('tan(x)')\n",
    "plt.xlabel('x')\n",
    "plt.ylabel('y')\n",
    "plt.ylim(-1, 1)\n",
    "\n",
    "fig.tight_layout()"
   ]
  },
  {
   "cell_type": "markdown",
   "metadata": {
    "id": "uzEd0yNS_L8S"
   },
   "source": [
    "# Part 3: Working with data\n"
   ]
  },
  {
   "cell_type": "code",
   "execution_count": null,
   "metadata": {},
   "outputs": [],
   "source": [
    "import pandas as pd\n",
    "import sklearn\n",
    "\n",
    "# Import necessary modules\n",
    "from sklearn.linear_model import LogisticRegressionCV\n",
    "\n",
    "diabetes = pd.read_csv('diabetes.csv') # Read the dataset with pandas\n",
    "diabetes.head() # Display the head of the data"
   ]
  },
  {
   "cell_type": "code",
   "execution_count": null,
   "metadata": {},
   "outputs": [],
   "source": [
    "# Scaling the data\n",
    "\n",
    "X1 = diabetes.values[:, :-1]                                              # Extract features\n",
    "Y1 = diabetes.values[:, -1]                                               # Extract labels\n",
    "\n",
    "# Scale the data z = (x - u) / s\n",
    "\n",
    "X1_mean = np.mean(X1, axis = 0)                                           # Compute means\n",
    "X1_std = np.std(X1, axis = 0)                                             # Compute stds\n",
    "X1_mean_repeated = np.tile(X1_mean, (len(X1), 1))                         # Create repeated array of mean to match X1 dimension\n",
    "X1_std_repeated = np.tile(X1_std, (len(X1), 1))                           # Create repeated array of std to match X1 dimension\n",
    "X1_scaled = np.divide(np.subtract(X1, X1_mean_repeated), X1_std_repeated) # Compute z for the array"
   ]
  },
  {
   "cell_type": "code",
   "execution_count": null,
   "metadata": {},
   "outputs": [],
   "source": [
    "# Divide the data into training and testing\n",
    "\n",
    "test_ratio = 0.3                              # Set the test data ratio\n",
    "train_size = int(len(X1)*(1-test_ratio))      # Set training data size based on test ratio\n",
    "\n",
    "X_train = X1_scaled[:train_size]              \n",
    "X_test = X1_scaled[train_size:]\n",
    "Y_train = Y1[:train_size]\n",
    "Y_test = Y1[train_size:]"
   ]
  },
  {
   "cell_type": "code",
   "execution_count": null,
   "metadata": {},
   "outputs": [],
   "source": [
    "# Use cross validation to train\n",
    "model = LogisticRegressionCV(cv=10).fit(X_train, Y_train)\n",
    "result = model.score(X_test, Y_test)\n",
    "\n",
    "print(\"Accuracy: %.2f%%\" % (result*100))"
   ]
  },
  {
   "cell_type": "markdown",
   "metadata": {
    "id": "x7xmkhCeSc_m"
   },
   "source": [
    "# Lab Assignment: Implement Neural Network for XOR gate from scratch \n"
   ]
  },
  {
   "cell_type": "code",
   "execution_count": null,
   "metadata": {
    "id": "1Lu3k4tgRKMU",
    "outputId": "997e36b6-812a-426e-de16-7c39f70f633b"
   },
   "outputs": [],
   "source": [
    "# XOR table\n",
    "\n",
    "XOR_table = pd.read_csv('XOR_table.csv')\n",
    "XOR_table"
   ]
  },
  {
   "cell_type": "markdown",
   "metadata": {
    "id": "Y4yhYFD4h3eR"
   },
   "source": [
    "![](https://drive.google.com/uc?export=view&id=1lf82hKZxfBqhV2m5cLIRO_9pO1S3T4ty)"
   ]
  },
  {
   "cell_type": "code",
   "execution_count": null,
   "metadata": {
    "id": "_oCWE2KK_vVr",
    "outputId": "18f4ca36-ac43-4d98-f73d-268f9267c1e3"
   },
   "outputs": [],
   "source": [
    "XOR_table = XOR_table.values\n",
    "X = XOR_table[:, :2]\n",
    "targets = XOR_table[:, -1].reshape(-1,1)\n",
    "\n",
    "print(X)       # Input data\n",
    "print(targets) # Output targets"
   ]
  },
  {
   "cell_type": "code",
   "execution_count": null,
   "metadata": {
    "id": "J7L0PtiRjNr5"
   },
   "outputs": [],
   "source": [
    "# Define dimensions on input, hidden and output layers\n",
    "input_dim, hidden_dim, output_dim = \n",
    "\n",
    "# Define learning rate\n",
    "learning_rate=\n",
    "\n",
    "# Define a hidden layer\n",
    "W1=\n",
    "# Define an output layer\n",
    "W2=\n",
    "# Define sigmoid activation function\n",
    "\n",
    "for i in range(10000):\n",
    "\n",
    "  # Forward pass: compute predicted y\n",
    "\n",
    "  # Compute and print L2-norm loss\n",
    "\n",
    "  # Backprop to compute gradients of w1 and w2 with respect to L2-norm loss\n",
    "\n",
    "  # Update weights\n",
    "\n",
    "  # Save loss to an array"
   ]
  }
 ],
 "metadata": {
  "colab": {
   "collapsed_sections": [],
   "name": "Lab1.ipynb",
   "provenance": []
  },
  "kernelspec": {
   "display_name": "Python 3",
   "language": "python",
   "name": "python3"
  },
  "language_info": {
   "codemirror_mode": {
    "name": "ipython",
    "version": 3
   },
   "file_extension": ".py",
   "mimetype": "text/x-python",
   "name": "python",
   "nbconvert_exporter": "python",
   "pygments_lexer": "ipython3",
   "version": "3.8.5"
  }
 },
 "nbformat": 4,
 "nbformat_minor": 1
}
