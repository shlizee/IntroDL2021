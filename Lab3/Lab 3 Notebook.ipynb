{
  "nbformat": 4,
  "nbformat_minor": 0,
  "metadata": {
    "colab": {
      "name": "Lab 3.ipynb",
      "provenance": [],
      "collapsed_sections": []
    },
    "kernelspec": {
      "name": "python3",
      "display_name": "Python 3"
    },
    "language_info": {
      "name": "python"
    }
  },
  "cells": [
    {
      "cell_type": "markdown",
      "metadata": {
        "id": "7KixHYy9Y5Tu"
      },
      "source": [
        "# Lab 3: Convolutional Neural Nets (CNNs)"
      ]
    },
    {
      "cell_type": "markdown",
      "metadata": {
        "id": "fwKIp1t6Y-0w"
      },
      "source": [
        "## Example: CNN Implementation"
      ]
    },
    {
      "cell_type": "code",
      "metadata": {
        "id": "xndJwpORd0G1"
      },
      "source": [
        "#Formatting on training set\n",
        "train_x = X_train.reshape(33600, 1, 28, 28)\n",
        "train_x  = torch.from_numpy(train_x).float()\n",
        "# converting the target into torch format\n",
        "y_train = torch.from_numpy(np.array(y_train))\n",
        "# shape of training data\n",
        "train_x.shape, y_train.shape\n",
        "\n",
        "#Formatting on testing set\n",
        "X_cv = X_cv.reshape(8400, 1, 28, 28)\n",
        "X_cv  = torch.from_numpy(np.array(X_cv)).float()\n",
        "# converting the target into torch format\n",
        "y_cv = torch.from_numpy(np.array(y_cv))\n",
        "X_cv.shape, y_cv.shape"
      ],
      "execution_count": null,
      "outputs": []
    },
    {
      "cell_type": "code",
      "metadata": {
        "id": "cvMqyEazd3zL"
      },
      "source": [
        "# batch_size, epoch and iteration\n",
        "batch_size = 100\n",
        "\n",
        "\n",
        "# Pytorch train and test sets\n",
        "train = torch.utils.data.TensorDataset(train_x,y_train)\n",
        "test = torch.utils.data.TensorDataset(X_cv,y_cv)\n",
        "\n",
        "# data loader\n",
        "train_loader = torch.utils.data.DataLoader(train, batch_size = batch_size,\n",
        "                                           shuffle = False)\n",
        "test_loader = torch.utils.data.DataLoader(test, batch_size = batch_size, \n",
        "                                          shuffle = False)"
      ],
      "execution_count": null,
      "outputs": []
    },
    {
      "cell_type": "code",
      "metadata": {
        "id": "PH-Z6NbEd5nZ"
      },
      "source": [
        "# Create CNN Model\n",
        "class CNNModel(nn.Module):\n",
        "    def __init__(self):\n",
        "        super(CNNModel, self).__init__()\n",
        "        \n",
        "        # Convolution 1\n",
        "        self.cnn1 = nn.Conv2d(in_channels=1, out_channels=16, \n",
        "                              kernel_size=3, stride=1, padding=0)\n",
        "        self.relu1 = nn.ReLU()\n",
        "        \n",
        "        # Max pool 1\n",
        "        self.maxpool1 = nn.MaxPool2d(kernel_size=2)\n",
        "     \n",
        "        # Convolution 2\n",
        "        self.cnn2 = nn.Conv2d(in_channels=16, out_channels=32, \n",
        "                              kernel_size=3, stride=1, padding=0)\n",
        "        self.relu2 = nn.ReLU()\n",
        "        \n",
        "        # Max pool 2\n",
        "        self.maxpool2 = nn.MaxPool2d(kernel_size=2)\n",
        "        \n",
        "        # Fully connected 1\n",
        "        self.fc1 = nn.Linear(32 * 5 * 5, 10) \n",
        "    \n",
        "    def forward(self, x):\n",
        "        # Input x dimensions:   #nx1x28x28\n",
        "        # Set 1\n",
        "        out = self.cnn1(x)      #nx16x26x26\n",
        "        out = self.relu1(out) \n",
        "        out = self.maxpool1(out)#nx16x13x13\n",
        "        \n",
        "        # Set 2\n",
        "        out = self.cnn2(out)    #nx32x11x11\n",
        "        out = self.relu2(out)   \n",
        "        out = self.maxpool2(out)#nx32x5x5\n",
        "        \n",
        "        #Flatten\n",
        "        out = out.view(out.size(0), -1) #nx800\n",
        "\n",
        "        #Dense\n",
        "        out = self.fc1(out)     #nx10\n",
        "        \n",
        "        return out"
      ],
      "execution_count": null,
      "outputs": []
    },
    {
      "cell_type": "code",
      "metadata": {
        "id": "9LEt3PvHhSCD"
      },
      "source": [
        "#Definition of hyperparameters\n",
        "n_iters = 2500\n",
        "num_epochs = n_iters / (len(train_x) / batch_size)\n",
        "num_epochs = int(num_epochs)\n",
        "\n",
        "# Cross Entropy Loss \n",
        "error = nn.CrossEntropyLoss()\n",
        "\n",
        "# SGD Optimizer\n",
        "model = CNNModel()\n",
        "learning_rate = 0.001\n",
        "optimizer = torch.optim.SGD(model.parameters(), lr=learning_rate)"
      ],
      "execution_count": null,
      "outputs": []
    },
    {
      "cell_type": "code",
      "metadata": {
        "id": "C1MTx1rjil_X"
      },
      "source": [
        "# CNN model training\n",
        "count = 0\n",
        "loss_list = []\n",
        "iteration_list = []\n",
        "accuracy_list = []\n",
        "for epoch in range(num_epochs):\n",
        "    for i, (images, labels) in enumerate(train_loader):\n",
        "        \n",
        "        train = Variable(images.view(100,1,28,28))\n",
        "        labels = Variable(labels)\n",
        "        # Clear gradients\n",
        "        optimizer.zero_grad()\n",
        "        # Forward propagation\n",
        "        outputs = model(train)\n",
        "        # Calculate softmax and cross entropy loss\n",
        "        loss = error(outputs, labels)\n",
        "        # Calculating gradients\n",
        "        loss.backward()\n",
        "        # Update parameters\n",
        "        optimizer.step()\n",
        "\n",
        "        count += 1\n",
        "        if count % 50 == 0:\n",
        "            # Calculate Accuracy         \n",
        "            correct = 0\n",
        "            total = 0\n",
        "            # Iterate through test dataset\n",
        "            for images, labels in test_loader:\n",
        "                \n",
        "                test = Variable(images.view(100,1,28,28))\n",
        "                # Forward propagation\n",
        "                outputs = model(test)\n",
        "                # Get predictions from the maximum value\n",
        "                predicted = torch.max(outputs.data, 1)[1]\n",
        "                \n",
        "                # Total number of labels\n",
        "                total += len(labels)\n",
        "                correct += (predicted == labels).sum()\n",
        "            \n",
        "            accuracy = 100 * correct / float(total)\n",
        "            \n",
        "            # store loss and iteration\n",
        "            loss_list.append(loss.data)\n",
        "            iteration_list.append(count)\n",
        "            accuracy_list.append(accuracy)\n",
        "        if count % 500 == 0:\n",
        "            # Print Loss\n",
        "            print('Iteration: {}  Loss: {}  Accuracy: {} %'.format(count, loss.data, accuracy))\n"
      ],
      "execution_count": null,
      "outputs": []
    },
    {
      "cell_type": "code",
      "metadata": {
        "id": "GZ_gdg2VkDNZ"
      },
      "source": [
        "# visualization loss \n",
        "plt.plot(iteration_list,loss_list)\n",
        "plt.xlabel(\"Number of iteration\")\n",
        "plt.ylabel(\"Loss\")\n",
        "plt.title(\"CNN: Loss vs Number of iteration\")\n",
        "plt.show()\n",
        "\n",
        "# visualization accuracy \n",
        "plt.plot(iteration_list,accuracy_list,color = \"red\")\n",
        "plt.xlabel(\"Number of iteration\")\n",
        "plt.ylabel(\"Accuracy\")\n",
        "plt.title(\"CNN: Accuracy vs Number of iteration\")\n",
        "plt.show()"
      ],
      "execution_count": null,
      "outputs": []
    },
    {
      "cell_type": "markdown",
      "metadata": {
        "id": "XaRkxg62ZH3e"
      },
      "source": [
        "## Assignment: LeNet5 Implementation"
      ]
    },
    {
      "cell_type": "code",
      "metadata": {
        "id": "4O7KPNtHpnSx"
      },
      "source": [
        "class LeNet5(nn.Module):\n",
        "\n",
        "    def __init__(self, n_classes):\n",
        "        super(LeNet5, self).__init__()\n",
        "        \n",
        "        #define LeNet5\n",
        "\n",
        "    def forward(self, x):\n",
        "        #Define forward pass\n",
        "        return logits   #can also return probabilities\n",
        "                        #by performing softmax"
      ],
      "execution_count": null,
      "outputs": []
    }
  ]
}